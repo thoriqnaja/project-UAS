{
  "nbformat": 4,
  "nbformat_minor": 0,
  "metadata": {
    "colab": {
      "provenance": [],
      "authorship_tag": "ABX9TyMZucfXv1WJjegszy0pp1Fc",
      "include_colab_link": true
    },
    "kernelspec": {
      "name": "python3",
      "display_name": "Python 3"
    },
    "language_info": {
      "name": "python"
    }
  },
  "cells": [
    {
      "cell_type": "markdown",
      "metadata": {
        "id": "view-in-github",
        "colab_type": "text"
      },
      "source": [
        "<a href=\"https://colab.research.google.com/github/thoriqnaja/project-UAS/blob/main/Proyek_akhir_UAS.ipynb\" target=\"_parent\"><img src=\"https://colab.research.google.com/assets/colab-badge.svg\" alt=\"Open In Colab\"/></a>"
      ]
    },
    {
      "cell_type": "code",
      "execution_count": null,
      "metadata": {
        "id": "Oifuu_rHThVC"
      },
      "outputs": [],
      "source": [
        "import warnings\n",
        "import os\n",
        "\n",
        "import numpy as np  # NumPy for numerical computing\n",
        "import pandas as pd  # Pandas for data manipulation and analysis\n",
        "\n",
        "# Data visualization libraries\n",
        "import seaborn as sns\n",
        "import matplotlib.pyplot as plt\n",
        "import plotly.express as px\n",
        "\n",
        "warnings.simplefilter(action='ignore', category=Warning)\n",
        "\n",
        "# Some Pandas settings\n",
        "pd.set_option('display.max_columns', None)\n",
        "pd.set_option('display.float_format', lambda x: '%.3f' % x)\n",
        "pd.set_option('display.width', 500)"
      ]
    },
    {
      "cell_type": "code",
      "source": [
        "df = pd.read_csv(\"/kaggle/input/d/mexwell/heart-disease-dataset/heart_statlog_cleveland_hungary_final.csv\")"
      ],
      "metadata": {
        "id": "svrW3u3hT1yb"
      },
      "execution_count": null,
      "outputs": []
    },
    {
      "cell_type": "code",
      "source": [
        "def check_df(dataframe):\n",
        "    print(\"##################### Row and Column Count #####################\")\n",
        "    print(dataframe.shape)\n",
        "    print(\"\\n##################### Column Names #####################\")\n",
        "    print(dataframe.columns)\n",
        "    print(\"\\n##################### First Five Rows #####################\")\n",
        "    print(dataframe.head())\n",
        "    print(\"\\n##################### Last Five Rows #####################\")\n",
        "    print(dataframe.tail())\n",
        "    print(\"\\n##################### DataFrame Information #####################\")\n",
        "    dataframe.info()\n",
        "    print(\"\\n##################### Data Types #####################\")\n",
        "    print(dataframe.dtypes)\n",
        "\n",
        "check_df(df)"
      ],
      "metadata": {
        "id": "b3498vqiT9Dm"
      },
      "execution_count": null,
      "outputs": []
    },
    {
      "cell_type": "code",
      "source": [
        "print(df.describe().T)"
      ],
      "metadata": {
        "id": "QfhUxA-BUH77"
      },
      "execution_count": null,
      "outputs": []
    },
    {
      "cell_type": "code",
      "source": [
        "def plot_numerical_col(dataframe, numerical_col):\n",
        "    dataframe[numerical_col].hist(bins=20)\n",
        "    plt.xlabel(numerical_col)\n",
        "    plt.show(block=True)\n",
        "\n",
        "cols = [col for col in df.columns]\n",
        "\n",
        "for col in cols:\n",
        "    plot_numerical_col(df, col)"
      ],
      "metadata": {
        "id": "NYAIsOx5VnNI"
      },
      "execution_count": null,
      "outputs": []
    },
    {
      "cell_type": "code",
      "source": [
        "for col in cols:\n",
        "    print(f\"\\n{col} Value Counts (%):\")\n",
        "    print(100 * df[col].value_counts() / len(df))"
      ],
      "metadata": {
        "id": "ibE0lgUpVt1w"
      },
      "execution_count": null,
      "outputs": []
    },
    {
      "cell_type": "code",
      "source": [
        "print(df.isnull().sum())"
      ],
      "metadata": {
        "id": "9O0o_k3FV1BU"
      },
      "execution_count": null,
      "outputs": []
    },
    {
      "cell_type": "code",
      "source": [
        "def outlier_thresholds(dataframe, col_name, q1=0.05, q3=0.95):\n",
        "\n",
        "    quartile1 = dataframe[col_name].quantile(q1)\n",
        "    quartile3 = dataframe[col_name].quantile(q3)\n",
        "    interquantile_range = quartile3 - quartile1\n",
        "    up_limit = quartile3 + 1.5 * interquantile_range\n",
        "    low_limit = quartile1 - 1.5 * interquantile_range\n",
        "    return low_limit, up_limit\n",
        "\n",
        "def check_outlier(dataframe, col_name):\n",
        "\n",
        "    low_limit, up_limit = outlier_thresholds(dataframe, col_name)\n",
        "    if dataframe[(dataframe[col_name] > up_limit) | (dataframe[col_name] < low_limit)].any(axis=None):\n",
        "        return True\n",
        "    else:\n",
        "        return False\n",
        "\n",
        "for col in cols:\n",
        "    # Look for every column\n",
        "    print(col, check_outlier(df, col))"
      ],
      "metadata": {
        "id": "PpdXuoflV68I"
      },
      "execution_count": null,
      "outputs": []
    },
    {
      "cell_type": "code",
      "source": [
        "def replace_with_thresholds(dataframe, variable):\n",
        "    low_limit, up_limit = outlier_thresholds(dataframe, variable)\n",
        "    dataframe.loc[(dataframe[variable] < low_limit), variable] = low_limit\n",
        "    dataframe.loc[(dataframe[variable] > up_limit), variable] = up_limit\n",
        "\n",
        "replace_with_thresholds(df, \"resting bp s\")"
      ],
      "metadata": {
        "id": "yYd3lccIWGbH"
      },
      "execution_count": null,
      "outputs": []
    },
    {
      "cell_type": "code",
      "source": [
        "for col in cols:\n",
        "    print(col, check_outlier(df, col))"
      ],
      "metadata": {
        "id": "zw7P0ZGkWLyX"
      },
      "execution_count": null,
      "outputs": []
    },
    {
      "cell_type": "code",
      "source": [
        "print(\"\\n##################### Mean #####################\")\n",
        "print(df.mean())\n",
        "\n",
        "# Standart Sapma (Standard Deviation)\n",
        "print(\"\\n##################### Standard Deviation #####################\")\n",
        "print(df.std())\n",
        "\n",
        "# Medyan (Median)\n",
        "print(\"\\n##################### Median #####################\")\n",
        "print(df.median())\n",
        "\n",
        "# Mod (Mode)\n",
        "print(\"\\n##################### Mode #####################\")\n",
        "print(df.mode().iloc[0])\n",
        "\n",
        "# İstatistiksel Özet (Summary Statistics)\n",
        "print(\"\\n##################### Summary Statistics #####################\")\n",
        "print(df.describe(include='all'))"
      ],
      "metadata": {
        "id": "IcsyFez0WS65"
      },
      "execution_count": null,
      "outputs": []
    },
    {
      "cell_type": "code",
      "source": [
        "mean_values = df.mean()\n",
        "median_values = df.median()\n",
        "mode_values = df.mode().iloc[0]\n",
        "std_values = df.std()\n",
        "\n",
        "for column in df.select_dtypes(include=['float64', 'int64']).columns:\n",
        "    plt.figure(figsize=(10, 4))\n",
        "    sns.histplot(df[column], kde=True, color='blue')\n",
        "    plt.axvline(mean_values[column], color='red', linestyle='--', label=f'Mean: {mean_values[column]:.2f}')\n",
        "    plt.axvline(median_values[column], color='green', linestyle='-', label=f'Median: {median_values[column]:.2f}')\n",
        "    plt.axvline(mode_values[column], color='orange', linestyle='-', label=f'Mode: {mode_values[column]:.2f}')\n",
        "    plt.axvline(std_values[column], color='purple', linestyle='-', label=f'Std: {std_values[column]:.2f}')\n",
        "    plt.title(f'Distribution of {column}')\n",
        "    plt.legend()\n",
        "    plt.show()"
      ],
      "metadata": {
        "id": "hXhkXt8dWT26"
      },
      "execution_count": null,
      "outputs": []
    },
    {
      "cell_type": "code",
      "source": [
        "for column in df.select_dtypes(include=['float64', 'int64']).columns:\n",
        "    plt.figure(figsize=(10, 4))\n",
        "    sns.scatterplot(x=df.index, y=df[column], alpha=0.5, color='blue')\n",
        "\n",
        "    plt.title(f'Scatter Plot of {column}')\n",
        "    plt.xlabel('Index')\n",
        "    plt.ylabel(column)\n",
        "    plt.show()"
      ],
      "metadata": {
        "id": "iiL6L5sgWl7_"
      },
      "execution_count": null,
      "outputs": []
    },
    {
      "cell_type": "code",
      "source": [
        "for column in df.select_dtypes(include=['float64', 'int64']).columns:\n",
        "    plt.figure(figsize=(10, 6))\n",
        "    sns.histplot(df[column], kde=True)\n",
        "    plt.title(f'Histogram of {column}')\n",
        "    plt.xlabel(column)\n",
        "    plt.ylabel('Frequency')\n",
        "    plt.show()"
      ],
      "metadata": {
        "id": "jDD7Es3jWrPd"
      },
      "execution_count": null,
      "outputs": []
    },
    {
      "cell_type": "code",
      "source": [
        "for column in df.select_dtypes(include=['float64', 'int64']).columns:\n",
        "    plt.figure(figsize=(10, 6))\n",
        "    sns.boxplot(x=df[column])\n",
        "    plt.title(f'Box Plot of {column}')\n",
        "    plt.xlabel(column)\n",
        "    plt.show()"
      ],
      "metadata": {
        "id": "mBePOBnxWvjI"
      },
      "execution_count": null,
      "outputs": []
    },
    {
      "cell_type": "code",
      "source": [
        "# Calculate correlation matrix\n",
        "corr_matrix = df.corr()\n",
        "\n",
        "# Visualize correlation matrix\n",
        "plt.figure(figsize=(10, 8))\n",
        "sns.heatmap(corr_matrix, annot=True, cmap='coolwarm')\n",
        "plt.title('Correlation Matrix')\n",
        "plt.show()"
      ],
      "metadata": {
        "id": "lUpq__QGXIHb"
      },
      "execution_count": null,
      "outputs": []
    },
    {
      "cell_type": "code",
      "source": [
        "def target_summary_with_num(dataframe, target, numerical_col):\n",
        "    print(dataframe.groupby(target).agg({numerical_col: \"mean\"}), end=\"\\n\\n\\n\")\n",
        "\n",
        "\n",
        "for col in cols:\n",
        "    target_summary_with_num(df, \"target\", col)"
      ],
      "metadata": {
        "id": "XCUV7uR3XOtV"
      },
      "execution_count": null,
      "outputs": []
    },
    {
      "cell_type": "code",
      "source": [
        "high_corr_features = corr_matrix['target'][abs(corr_matrix['target']) > 0.4].index.tolist()\n",
        "high_corr_features.remove('target')\n",
        "print(f\"Selected features: {high_corr_features}\")"
      ],
      "metadata": {
        "id": "q66e7mTnXWvN"
      },
      "execution_count": null,
      "outputs": []
    },
    {
      "cell_type": "code",
      "source": [
        "from sklearn.preprocessing import RobustScaler\n",
        "for col in cols:\n",
        "    df[col] = RobustScaler().fit_transform(df[[col]])"
      ],
      "metadata": {
        "id": "ZqbXHkrXXam_"
      },
      "execution_count": null,
      "outputs": []
    },
    {
      "cell_type": "code",
      "source": [
        "df.head(15)"
      ],
      "metadata": {
        "id": "-iGSDsJQXdUh"
      },
      "execution_count": null,
      "outputs": []
    },
    {
      "cell_type": "code",
      "source": [
        "df2 = df # First, copy the file\n",
        "corr_matrix2 = df2.corr() # correlation map\n",
        "target_variable = 'target' # our target variable\n",
        "\n",
        "# calculate variables with correlation greater than 0.4\n",
        "high_corr_features = corr_matrix2['target'][abs(corr_matrix2['target']) > 0.4].index.tolist()\n",
        "\n",
        "# remove target variable itself\n",
        "high_corr_features.remove('target')\n",
        "\n",
        "# check\n",
        "print(f\"Selected features: {high_corr_features}\")\n",
        "\n",
        "# Filter the dataset to keep only high correlation features.\n",
        "df2 = df2[high_corr_features + ['target']]"
      ],
      "metadata": {
        "id": "JAEfKrLdXle1"
      },
      "execution_count": null,
      "outputs": []
    },
    {
      "cell_type": "code",
      "source": [
        "for column in df2.select_dtypes(include=['float64', 'int64']).columns:\n",
        "    plt.figure(figsize=(10, 6))\n",
        "    sns.histplot(df2[column], kde=True)\n",
        "    plt.title(f'Histogram of {column}')\n",
        "    plt.xlabel(column)\n",
        "    plt.ylabel('Frequency')\n",
        "    plt.show()"
      ],
      "metadata": {
        "id": "c7Ce2bSmXmgR"
      },
      "execution_count": null,
      "outputs": []
    },
    {
      "cell_type": "code",
      "source": [],
      "metadata": {
        "id": "HRht_3dJXpU1"
      },
      "execution_count": null,
      "outputs": []
    },
    {
      "cell_type": "markdown",
      "source": [
        "# New section"
      ],
      "metadata": {
        "id": "LSNWOd3VTro-"
      }
    }
  ]
}